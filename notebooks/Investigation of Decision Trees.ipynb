{
 "cells": [
  {
   "cell_type": "markdown",
   "metadata": {},
   "source": [
    "We feel that it is slightly problematic that there are lots of null values (recorded as zeros) corresponding to cat facial features not detected. "
   ]
  },
  {
   "cell_type": "code",
   "execution_count": 18,
   "metadata": {},
   "outputs": [],
   "source": [
    "import numpy as np\n",
    "import csv \n",
    "x_vals = np.loadtxt(\"../data/regression_training/features_v2.txt\")\n",
    "x_vals = x_vals[:, [0, 1, 2, 3, 4, 6, 8, 9, 10]]\n",
    "x_header = [\n",
    "    'eye_ratio', 'head_size', 'ear_ratio', 'conf_head', 'conf_eye_0', 'conf_ear_0',\n",
    "    'conf_nose', 'sharpness', 'head_distance',\n",
    "]\n",
    "with open(\"../data/regression_training/score_v2.csv\") as csv_file: \n",
    "    reader = csv.reader(csv_file) \n",
    "    y_vals = np.array([int(row[-1]) for row in reader])\n",
    "    y_vals = y_vals[y_vals != 0]\n",
    "any_features = np.any(x_vals[:, 3:7] != 0, axis=1)\n",
    "x_vals = x_vals[any_features]\n",
    "y_vals = y_vals[any_features]"
   ]
  },
  {
   "cell_type": "code",
   "execution_count": 105,
   "metadata": {},
   "outputs": [],
   "source": [
    "x_vals_all = np.loadtxt(\"../data/regression_training/features_v2.txt\")[any_features]"
   ]
  },
  {
   "cell_type": "code",
   "execution_count": 19,
   "metadata": {},
   "outputs": [],
   "source": [
    "x_vals = np.hstack((x_vals, np.sum(x_vals[:, 3:7] != 0, axis=1).reshape(-1, 1)))\n",
    "x_header.append(\"num_features_detected\")"
   ]
  },
  {
   "cell_type": "code",
   "execution_count": 21,
   "metadata": {},
   "outputs": [],
   "source": [
    "from sklearn.tree import DecisionTreeClassifier"
   ]
  },
  {
   "cell_type": "code",
   "execution_count": 42,
   "metadata": {},
   "outputs": [],
   "source": [
    "from sklearn.tree import _tree\n",
    "\n",
    "def tree_to_code(tree, feature_names):\n",
    "    tree_ = tree.tree_\n",
    "    feature_name = [\n",
    "        feature_names[i] if i != _tree.TREE_UNDEFINED else \"undefined!\"\n",
    "        for i in tree_.feature\n",
    "    ]\n",
    "    # print(\"def tree({}):\".format(\", \".join(feature_names)))\n",
    "\n",
    "    def recurse(node, depth):\n",
    "        indent = \"  \" * (depth - 1)\n",
    "        if tree_.feature[node] != _tree.TREE_UNDEFINED:\n",
    "            name = feature_name[node]\n",
    "            threshold = tree_.threshold[node]\n",
    "            print(\"{}if {} <= {}:\".format(indent, name, threshold))\n",
    "            recurse(tree_.children_left[node], depth + 1)\n",
    "            print(\"{}else:  # if {} > {}\".format(indent, name, threshold))\n",
    "            recurse(tree_.children_right[node], depth + 1)\n",
    "        else:\n",
    "            print(\"{}{}\".format(indent, tree_.value[node]))\n",
    "\n",
    "    recurse(0, 1)"
   ]
  },
  {
   "cell_type": "code",
   "execution_count": 59,
   "metadata": {},
   "outputs": [],
   "source": [
    "permute = np.random.permutation(len(y_vals))"
   ]
  },
  {
   "cell_type": "code",
   "execution_count": 52,
   "metadata": {},
   "outputs": [
    {
     "name": "stdout",
     "output_type": "stream",
     "text": [
      "Depth: 1 0.743801652892562\n",
      "Depth: 2 0.7851239669421488\n",
      "Depth: 3 0.7851239669421488\n",
      "Depth: 4 0.768595041322314\n",
      "Depth: 5 0.7355371900826446\n",
      "Depth: 6 0.7107438016528925\n",
      "Depth: 7 0.7768595041322314\n",
      "Depth: 8 0.7520661157024794\n",
      "Depth: 9 0.71900826446281\n",
      "Depth: 10 0.7272727272727273\n",
      "Depth: 11 0.71900826446281\n",
      "Depth: 12 0.7355371900826446\n",
      "Depth: 13 0.7355371900826446\n",
      "Depth: 14 0.7272727272727273\n"
     ]
    }
   ],
   "source": [
    "for i in range(1, 15): \n",
    "    model_bin = DecisionTreeClassifier(max_depth=i) \n",
    "    model_bin = model_bin.fit(x_vals[permute][:180], y_vals[permute][:180] > 3) \n",
    "    print(f\"Depth: {i}\", model_bin.score(x_vals[permute][180:], y_vals[permute][180:] > 3)) "
   ]
  },
  {
   "cell_type": "code",
   "execution_count": 68,
   "metadata": {},
   "outputs": [
    {
     "name": "stdout",
     "output_type": "stream",
     "text": [
      "if num_features_detected <= 3.5:\n",
      "  if conf_ear_0 <= 0.7005633413791656:\n",
      "    [[55.  9.]]\n",
      "  else:  # if conf_ear_0 > 0.7005633413791656\n",
      "    [[9. 7.]]\n",
      "else:  # if num_features_detected > 3.5\n",
      "  if conf_eye_0 <= 0.8488049805164337:\n",
      "    [[16. 15.]]\n",
      "  else:  # if conf_eye_0 > 0.8488049805164337\n",
      "    [[ 9. 60.]]\n"
     ]
    }
   ],
   "source": [
    "model_bin = DecisionTreeClassifier(max_depth=2)\n",
    "model_bin.fit(x_vals[permute][:180], y_vals[permute][:180] > 3)\n",
    "tree_to_code(model_bin, x_header)"
   ]
  },
  {
   "cell_type": "markdown",
   "metadata": {},
   "source": [
    "Number of features detected, confidence of ears and confidence of eyes consistently show up as the most important features. Perhaps we can improve the performance of any logistic regression model by first taking out some frames that are terrible."
   ]
  },
  {
   "cell_type": "code",
   "execution_count": 83,
   "metadata": {},
   "outputs": [
    {
     "name": "stdout",
     "output_type": "stream",
     "text": [
      "if num_features_detected <= 3.5:\n",
      "  [[64. 16.]]\n",
      "else:  # if num_features_detected > 3.5\n",
      "  [[25. 75.]]\n"
     ]
    }
   ],
   "source": [
    "model_bin = DecisionTreeClassifier(max_depth=1, criterion=\"entropy\")\n",
    "# Note the additional penalty for false positives\n",
    "model_bin.fit(x_vals[permute][:180], y_vals[permute][:180] > 3)\n",
    "tree_to_code(model_bin, x_header)"
   ]
  },
  {
   "cell_type": "code",
   "execution_count": 84,
   "metadata": {},
   "outputs": [
    {
     "data": {
      "text/plain": [
       "0.7508305647840532"
      ]
     },
     "execution_count": 84,
     "metadata": {},
     "output_type": "execute_result"
    }
   ],
   "source": [
    "np.average((y_vals > 3) == (x_vals[:, -1] == 4))"
   ]
  },
  {
   "cell_type": "code",
   "execution_count": 85,
   "metadata": {},
   "outputs": [
    {
     "data": {
      "text/plain": [
       "0.4950166112956811"
      ]
     },
     "execution_count": 85,
     "metadata": {},
     "output_type": "execute_result"
    }
   ],
   "source": [
    "np.average(y_vals > 3)"
   ]
  },
  {
   "cell_type": "code",
   "execution_count": 91,
   "metadata": {},
   "outputs": [
    {
     "ename": "ValueError",
     "evalue": "matmul: Input operand 1 has a mismatch in its core dimension 0, with gufunc signature (n?,k),(k,m?)->(n?,m?) (size 11 is different from 9)",
     "output_type": "error",
     "traceback": [
      "\u001b[0;31m---------------------------------------------------------------------------\u001b[0m",
      "\u001b[0;31mValueError\u001b[0m                                Traceback (most recent call last)",
      "\u001b[0;32m<ipython-input-91-25831350d509>\u001b[0m in \u001b[0;36m<module>\u001b[0;34m\u001b[0m\n\u001b[0;32m----> 1\u001b[0;31m \u001b[0mx_vals\u001b[0m\u001b[0;34m[\u001b[0m\u001b[0;34m:\u001b[0m\u001b[0;34m,\u001b[0m \u001b[0;34m:\u001b[0m\u001b[0;34m-\u001b[0m\u001b[0;36m1\u001b[0m\u001b[0;34m]\u001b[0m \u001b[0;34m@\u001b[0m \u001b[0mnp\u001b[0m\u001b[0;34m.\u001b[0m\u001b[0mloadtxt\u001b[0m\u001b[0;34m(\u001b[0m\u001b[0;34m\"../data/regression_parameter_results/log_params_any_features_v1.txt\"\u001b[0m\u001b[0;34m)\u001b[0m\u001b[0;34m.\u001b[0m\u001b[0mT\u001b[0m\u001b[0;34m\u001b[0m\u001b[0;34m\u001b[0m\u001b[0m\n\u001b[0m",
      "\u001b[0;31mValueError\u001b[0m: matmul: Input operand 1 has a mismatch in its core dimension 0, with gufunc signature (n?,k),(k,m?)->(n?,m?) (size 11 is different from 9)"
     ]
    }
   ],
   "source": [
    "x_vals[:, :-1] @ np.loadtxt(\"../data/regression_parameter_results/log_params_any_features_v1.txt\").T"
   ]
  },
  {
   "cell_type": "code",
   "execution_count": 109,
   "metadata": {},
   "outputs": [
    {
     "data": {
      "text/plain": [
       "0.5913621262458472"
      ]
     },
     "execution_count": 109,
     "metadata": {},
     "output_type": "execute_result"
    }
   ],
   "source": [
    "np.average((y_vals > 3)==(np.argmax(x_vals_all @ np.loadtxt(\"../data/regression_parameter_results/log_params_any_features_v1.txt\").T, axis=1) > 3))"
   ]
  },
  {
   "cell_type": "code",
   "execution_count": 103,
   "metadata": {},
   "outputs": [
    {
     "data": {
      "text/plain": [
       "(301,)"
      ]
     },
     "execution_count": 103,
     "metadata": {},
     "output_type": "execute_result"
    }
   ],
   "source": [
    "(y_vals > 3).shape"
   ]
  },
  {
   "cell_type": "code",
   "execution_count": 107,
   "metadata": {},
   "outputs": [
    {
     "data": {
      "text/plain": [
       "(301,)"
      ]
     },
     "execution_count": 107,
     "metadata": {},
     "output_type": "execute_result"
    }
   ],
   "source": [
    "(np.argmax(x_vals_all @ np.loadtxt(\"../data/regression_parameter_results/log_params_any_features_v1.txt\").T, axis=1) > 3).shape"
   ]
  },
  {
   "cell_type": "code",
   "execution_count": 123,
   "metadata": {},
   "outputs": [
    {
     "data": {
      "text/plain": [
       "0.7508305647840532"
      ]
     },
     "execution_count": 123,
     "metadata": {},
     "output_type": "execute_result"
    }
   ],
   "source": [
    "np.average((y_vals > 3) == np.logical_and(np.argmax(x_vals_all @ np.loadtxt(\"../data/regression_parameter_results/log_params_all_features_v1.txt\").T, axis=1) > 3, x_vals[:, -1] == 4))"
   ]
  },
  {
   "cell_type": "code",
   "execution_count": 116,
   "metadata": {},
   "outputs": [
    {
     "data": {
      "text/plain": [
       "(168, 11)"
      ]
     },
     "execution_count": 116,
     "metadata": {},
     "output_type": "execute_result"
    }
   ],
   "source": []
  },
  {
   "cell_type": "code",
   "execution_count": null,
   "metadata": {},
   "outputs": [],
   "source": []
  }
 ],
 "metadata": {
  "kernelspec": {
   "display_name": "Python 3",
   "language": "python",
   "name": "python3"
  },
  "language_info": {
   "codemirror_mode": {
    "name": "ipython",
    "version": 3
   },
   "file_extension": ".py",
   "mimetype": "text/x-python",
   "name": "python",
   "nbconvert_exporter": "python",
   "pygments_lexer": "ipython3",
   "version": "3.7.7"
  }
 },
 "nbformat": 4,
 "nbformat_minor": 4
}
