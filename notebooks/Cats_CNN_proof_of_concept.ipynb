{
  "nbformat": 4,
  "nbformat_minor": 0,
  "metadata": {
    "colab": {
      "name": "Cats_CNN_proof_of_concept.ipynb",
      "provenance": [],
      "collapsed_sections": []
    },
    "kernelspec": {
      "name": "python3",
      "display_name": "Python 3"
    }
  },
  "cells": [
    {
      "cell_type": "code",
      "metadata": {
        "id": "erEEi7uizJIi",
        "colab_type": "code",
        "outputId": "992ebf0b-46f2-463d-a10d-3bf8aca380cf",
        "colab": {
          "base_uri": "https://localhost:8080/",
          "height": 139
        }
      },
      "source": [
        "from google.colab import drive\n",
        "from os.path import join\n",
        "ROOT = \"/content/drive\"\n",
        "print(ROOT)\n",
        "drive.mount(ROOT, force_remount=True)"
      ],
      "execution_count": 0,
      "outputs": [
        {
          "output_type": "stream",
          "text": [
            "/content/drive\n",
            "Go to this URL in a browser: https://accounts.google.com/o/oauth2/auth?client_id=947318989803-6bn6qk8qdgf4n4g3pfee6491hc0brc4i.apps.googleusercontent.com&redirect_uri=urn%3aietf%3awg%3aoauth%3a2.0%3aoob&response_type=code&scope=email%20https%3a%2f%2fwww.googleapis.com%2fauth%2fdocs.test%20https%3a%2f%2fwww.googleapis.com%2fauth%2fdrive%20https%3a%2f%2fwww.googleapis.com%2fauth%2fdrive.photos.readonly%20https%3a%2f%2fwww.googleapis.com%2fauth%2fpeopleapi.readonly\n",
            "\n",
            "Enter your authorization code:\n",
            "··········\n",
            "Mounted at /content/drive\n"
          ],
          "name": "stdout"
        }
      ]
    },
    {
      "cell_type": "code",
      "metadata": {
        "id": "y5sIvj47vbPi",
        "colab_type": "code",
        "outputId": "847691bd-1188-48c5-b3b1-3bb005846cfd",
        "colab": {
          "base_uri": "https://localhost:8080/",
          "height": 102
        }
      },
      "source": [
        "%tensorflow_version 2.0.0"
      ],
      "execution_count": 0,
      "outputs": [
        {
          "output_type": "stream",
          "text": [
            "`%tensorflow_version` only switches the major version: 1.x or 2.x.\n",
            "You set: `2.0.0`. This will be interpreted as: `2.x`.\n",
            "\n",
            "\n",
            "TensorFlow 2.x selected.\n"
          ],
          "name": "stdout"
        }
      ]
    },
    {
      "cell_type": "code",
      "metadata": {
        "id": "XUb0OupTvdnY",
        "colab_type": "code",
        "outputId": "3c77fcf4-2f3a-4c48-ac89-a5b4fe7cccf3",
        "colab": {
          "base_uri": "https://localhost:8080/",
          "height": 34
        }
      },
      "source": [
        "# Load useful libraries\n",
        "import numpy as np\n",
        "import pandas as pd\n",
        "import time\n",
        "from sklearn.model_selection import train_test_split\n",
        "from sklearn.decomposition import PCA\n",
        "from sklearn.manifold import TSNE\n",
        "\n",
        "# TensorFlow and tf.keras\n",
        "import tensorflow as tf\n",
        "from tensorflow.keras import backend as K\n",
        "from tensorflow.keras import layers\n",
        "from tensorflow.keras import models\n",
        "from tensorflow.keras import losses\n",
        "from tensorflow.keras import optimizers\n",
        "from tensorflow.keras import initializers\n",
        "from tensorflow.keras.metrics import *\n",
        "\n",
        "# Plotting libraries\n",
        "import matplotlib.pyplot as plt\n",
        "plt.gray()"
      ],
      "execution_count": 0,
      "outputs": [
        {
          "output_type": "display_data",
          "data": {
            "text/plain": [
              "<Figure size 432x288 with 0 Axes>"
            ]
          },
          "metadata": {
            "tags": []
          }
        }
      ]
    },
    {
      "cell_type": "code",
      "metadata": {
        "id": "pmoE6d1OvgwD",
        "colab_type": "code",
        "outputId": "81df8019-cefa-4b43-8a21-2c116662cea2",
        "colab": {
          "base_uri": "https://localhost:8080/",
          "height": 34
        }
      },
      "source": [
        "tf.config.experimental.list_physical_devices('GPU')"
      ],
      "execution_count": 0,
      "outputs": [
        {
          "output_type": "execute_result",
          "data": {
            "text/plain": [
              "[]"
            ]
          },
          "metadata": {
            "tags": []
          },
          "execution_count": 13
        }
      ]
    },
    {
      "cell_type": "code",
      "metadata": {
        "id": "wyYTFWedvjal",
        "colab_type": "code",
        "colab": {}
      },
      "source": [
        "directory = \"/content/drive/My Drive/data/\""
      ],
      "execution_count": 0,
      "outputs": []
    },
    {
      "cell_type": "code",
      "metadata": {
        "id": "tGE5HwuqxTVe",
        "colab_type": "code",
        "colab": {}
      },
      "source": [
        "x_headers = [\n",
        "    \"eye_ratio\", \"head_size\", \"ear_ratio\", \n",
        "    \"conf_head\", \"conf_eye_0\", \"conf_eye_1\", \n",
        "    \"conf_ear_0\", \"conf_ear_1\", \"conf_nose\", \"sharpness\"\n",
        "]"
      ],
      "execution_count": 0,
      "outputs": []
    },
    {
      "cell_type": "code",
      "metadata": {
        "id": "kNNcMngmwkIF",
        "colab_type": "code",
        "outputId": "e744981f-436c-4bc6-c139-75c651e4f6e5",
        "colab": {
          "base_uri": "https://localhost:8080/",
          "height": 821
        }
      },
      "source": [
        "predictors = np.loadtxt(f\"{directory}x_results.txt\")\n",
        "predictors_df = pd.DataFrame(predictors, columns=x_headers)\n",
        "display(predictors_df)\n",
        "\n",
        "frames_df = pd.read_csv(f\"{directory}labeled_results_418.csv\", names=[\"labeler\", \"video\", \"frame_seconds\", \"score\"])\n",
        "# Grab ONLY the frames where there's a cat\n",
        "frames_df = frames_df[frames_df[\"score\"] > 0].reset_index()\n",
        "display(frames_df)"
      ],
      "execution_count": 0,
      "outputs": [
        {
          "output_type": "display_data",
          "data": {
            "text/html": [
              "<div>\n",
              "<style scoped>\n",
              "    .dataframe tbody tr th:only-of-type {\n",
              "        vertical-align: middle;\n",
              "    }\n",
              "\n",
              "    .dataframe tbody tr th {\n",
              "        vertical-align: top;\n",
              "    }\n",
              "\n",
              "    .dataframe thead th {\n",
              "        text-align: right;\n",
              "    }\n",
              "</style>\n",
              "<table border=\"1\" class=\"dataframe\">\n",
              "  <thead>\n",
              "    <tr style=\"text-align: right;\">\n",
              "      <th></th>\n",
              "      <th>eye_ratio</th>\n",
              "      <th>head_size</th>\n",
              "      <th>ear_ratio</th>\n",
              "      <th>conf_head</th>\n",
              "      <th>conf_eye_0</th>\n",
              "      <th>conf_eye_1</th>\n",
              "      <th>conf_ear_0</th>\n",
              "      <th>conf_ear_1</th>\n",
              "      <th>conf_nose</th>\n",
              "      <th>sharpness</th>\n",
              "    </tr>\n",
              "  </thead>\n",
              "  <tbody>\n",
              "    <tr>\n",
              "      <th>0</th>\n",
              "      <td>0.000000</td>\n",
              "      <td>0.000000</td>\n",
              "      <td>0.000000</td>\n",
              "      <td>0.000000</td>\n",
              "      <td>0.000000</td>\n",
              "      <td>0.000000</td>\n",
              "      <td>0.000000</td>\n",
              "      <td>0.000000</td>\n",
              "      <td>0.000000</td>\n",
              "      <td>0.000000</td>\n",
              "    </tr>\n",
              "    <tr>\n",
              "      <th>1</th>\n",
              "      <td>0.000000</td>\n",
              "      <td>0.000000</td>\n",
              "      <td>0.000000</td>\n",
              "      <td>0.000000</td>\n",
              "      <td>0.285022</td>\n",
              "      <td>0.000000</td>\n",
              "      <td>0.000000</td>\n",
              "      <td>0.000000</td>\n",
              "      <td>0.000000</td>\n",
              "      <td>0.000000</td>\n",
              "    </tr>\n",
              "    <tr>\n",
              "      <th>2</th>\n",
              "      <td>0.000000</td>\n",
              "      <td>0.000000</td>\n",
              "      <td>0.000000</td>\n",
              "      <td>0.000000</td>\n",
              "      <td>0.000000</td>\n",
              "      <td>0.000000</td>\n",
              "      <td>0.000000</td>\n",
              "      <td>0.000000</td>\n",
              "      <td>0.000000</td>\n",
              "      <td>0.000000</td>\n",
              "    </tr>\n",
              "    <tr>\n",
              "      <th>3</th>\n",
              "      <td>0.000000</td>\n",
              "      <td>0.000000</td>\n",
              "      <td>0.000000</td>\n",
              "      <td>0.000000</td>\n",
              "      <td>0.000000</td>\n",
              "      <td>0.000000</td>\n",
              "      <td>0.000000</td>\n",
              "      <td>0.000000</td>\n",
              "      <td>0.000000</td>\n",
              "      <td>0.000000</td>\n",
              "    </tr>\n",
              "    <tr>\n",
              "      <th>4</th>\n",
              "      <td>0.000000</td>\n",
              "      <td>0.000000</td>\n",
              "      <td>0.000000</td>\n",
              "      <td>0.000000</td>\n",
              "      <td>0.894592</td>\n",
              "      <td>0.000000</td>\n",
              "      <td>0.806655</td>\n",
              "      <td>0.000000</td>\n",
              "      <td>0.578450</td>\n",
              "      <td>0.000000</td>\n",
              "    </tr>\n",
              "    <tr>\n",
              "      <th>...</th>\n",
              "      <td>...</td>\n",
              "      <td>...</td>\n",
              "      <td>...</td>\n",
              "      <td>...</td>\n",
              "      <td>...</td>\n",
              "      <td>...</td>\n",
              "      <td>...</td>\n",
              "      <td>...</td>\n",
              "      <td>...</td>\n",
              "      <td>...</td>\n",
              "    </tr>\n",
              "    <tr>\n",
              "      <th>142</th>\n",
              "      <td>0.000000</td>\n",
              "      <td>0.000000</td>\n",
              "      <td>0.000000</td>\n",
              "      <td>0.000000</td>\n",
              "      <td>0.000000</td>\n",
              "      <td>0.000000</td>\n",
              "      <td>0.000000</td>\n",
              "      <td>0.000000</td>\n",
              "      <td>0.000000</td>\n",
              "      <td>0.000000</td>\n",
              "    </tr>\n",
              "    <tr>\n",
              "      <th>143</th>\n",
              "      <td>0.872194</td>\n",
              "      <td>0.050633</td>\n",
              "      <td>0.000000</td>\n",
              "      <td>0.835639</td>\n",
              "      <td>0.913628</td>\n",
              "      <td>0.745760</td>\n",
              "      <td>0.700000</td>\n",
              "      <td>0.000000</td>\n",
              "      <td>0.659196</td>\n",
              "      <td>1801.518863</td>\n",
              "    </tr>\n",
              "    <tr>\n",
              "      <th>144</th>\n",
              "      <td>0.576636</td>\n",
              "      <td>0.053261</td>\n",
              "      <td>0.942257</td>\n",
              "      <td>0.346079</td>\n",
              "      <td>0.876601</td>\n",
              "      <td>0.869548</td>\n",
              "      <td>0.859990</td>\n",
              "      <td>0.651589</td>\n",
              "      <td>0.346202</td>\n",
              "      <td>191.416360</td>\n",
              "    </tr>\n",
              "    <tr>\n",
              "      <th>145</th>\n",
              "      <td>0.890909</td>\n",
              "      <td>0.045992</td>\n",
              "      <td>0.904147</td>\n",
              "      <td>0.644881</td>\n",
              "      <td>0.963726</td>\n",
              "      <td>0.678370</td>\n",
              "      <td>0.706430</td>\n",
              "      <td>0.690395</td>\n",
              "      <td>0.919236</td>\n",
              "      <td>329.533163</td>\n",
              "    </tr>\n",
              "    <tr>\n",
              "      <th>146</th>\n",
              "      <td>0.747136</td>\n",
              "      <td>0.099372</td>\n",
              "      <td>0.987097</td>\n",
              "      <td>0.936502</td>\n",
              "      <td>0.939150</td>\n",
              "      <td>0.908117</td>\n",
              "      <td>0.795126</td>\n",
              "      <td>0.745812</td>\n",
              "      <td>0.968068</td>\n",
              "      <td>1566.600295</td>\n",
              "    </tr>\n",
              "  </tbody>\n",
              "</table>\n",
              "<p>147 rows × 10 columns</p>\n",
              "</div>"
            ],
            "text/plain": [
              "     eye_ratio  head_size  ear_ratio  ...  conf_ear_1  conf_nose    sharpness\n",
              "0     0.000000   0.000000   0.000000  ...    0.000000   0.000000     0.000000\n",
              "1     0.000000   0.000000   0.000000  ...    0.000000   0.000000     0.000000\n",
              "2     0.000000   0.000000   0.000000  ...    0.000000   0.000000     0.000000\n",
              "3     0.000000   0.000000   0.000000  ...    0.000000   0.000000     0.000000\n",
              "4     0.000000   0.000000   0.000000  ...    0.000000   0.578450     0.000000\n",
              "..         ...        ...        ...  ...         ...        ...          ...\n",
              "142   0.000000   0.000000   0.000000  ...    0.000000   0.000000     0.000000\n",
              "143   0.872194   0.050633   0.000000  ...    0.000000   0.659196  1801.518863\n",
              "144   0.576636   0.053261   0.942257  ...    0.651589   0.346202   191.416360\n",
              "145   0.890909   0.045992   0.904147  ...    0.690395   0.919236   329.533163\n",
              "146   0.747136   0.099372   0.987097  ...    0.745812   0.968068  1566.600295\n",
              "\n",
              "[147 rows x 10 columns]"
            ]
          },
          "metadata": {
            "tags": []
          }
        },
        {
          "output_type": "display_data",
          "data": {
            "text/html": [
              "<div>\n",
              "<style scoped>\n",
              "    .dataframe tbody tr th:only-of-type {\n",
              "        vertical-align: middle;\n",
              "    }\n",
              "\n",
              "    .dataframe tbody tr th {\n",
              "        vertical-align: top;\n",
              "    }\n",
              "\n",
              "    .dataframe thead th {\n",
              "        text-align: right;\n",
              "    }\n",
              "</style>\n",
              "<table border=\"1\" class=\"dataframe\">\n",
              "  <thead>\n",
              "    <tr style=\"text-align: right;\">\n",
              "      <th></th>\n",
              "      <th>index</th>\n",
              "      <th>labeler</th>\n",
              "      <th>video</th>\n",
              "      <th>frame_seconds</th>\n",
              "      <th>score</th>\n",
              "    </tr>\n",
              "  </thead>\n",
              "  <tbody>\n",
              "    <tr>\n",
              "      <th>0</th>\n",
              "      <td>0</td>\n",
              "      <td>all</td>\n",
              "      <td>cat15.mp4</td>\n",
              "      <td>2.133385</td>\n",
              "      <td>2</td>\n",
              "    </tr>\n",
              "    <tr>\n",
              "      <th>1</th>\n",
              "      <td>1</td>\n",
              "      <td>all</td>\n",
              "      <td>cat74.mp4</td>\n",
              "      <td>13.984110</td>\n",
              "      <td>3</td>\n",
              "    </tr>\n",
              "    <tr>\n",
              "      <th>2</th>\n",
              "      <td>2</td>\n",
              "      <td>all</td>\n",
              "      <td>cat75.mp4</td>\n",
              "      <td>14.685697</td>\n",
              "      <td>2</td>\n",
              "    </tr>\n",
              "    <tr>\n",
              "      <th>3</th>\n",
              "      <td>3</td>\n",
              "      <td>all</td>\n",
              "      <td>cat21.mp4</td>\n",
              "      <td>2.282946</td>\n",
              "      <td>2</td>\n",
              "    </tr>\n",
              "    <tr>\n",
              "      <th>4</th>\n",
              "      <td>4</td>\n",
              "      <td>all</td>\n",
              "      <td>cat65.mp4</td>\n",
              "      <td>1.214871</td>\n",
              "      <td>4</td>\n",
              "    </tr>\n",
              "    <tr>\n",
              "      <th>...</th>\n",
              "      <td>...</td>\n",
              "      <td>...</td>\n",
              "      <td>...</td>\n",
              "      <td>...</td>\n",
              "      <td>...</td>\n",
              "    </tr>\n",
              "    <tr>\n",
              "      <th>142</th>\n",
              "      <td>156</td>\n",
              "      <td>all</td>\n",
              "      <td>cat35.mp4</td>\n",
              "      <td>3.484597</td>\n",
              "      <td>1</td>\n",
              "    </tr>\n",
              "    <tr>\n",
              "      <th>143</th>\n",
              "      <td>157</td>\n",
              "      <td>all</td>\n",
              "      <td>cat63.mp4</td>\n",
              "      <td>7.950350</td>\n",
              "      <td>4</td>\n",
              "    </tr>\n",
              "    <tr>\n",
              "      <th>144</th>\n",
              "      <td>158</td>\n",
              "      <td>all</td>\n",
              "      <td>cat30.mp4</td>\n",
              "      <td>3.723101</td>\n",
              "      <td>3</td>\n",
              "    </tr>\n",
              "    <tr>\n",
              "      <th>145</th>\n",
              "      <td>160</td>\n",
              "      <td>all</td>\n",
              "      <td>cat29.mp4</td>\n",
              "      <td>15.945570</td>\n",
              "      <td>5</td>\n",
              "    </tr>\n",
              "    <tr>\n",
              "      <th>146</th>\n",
              "      <td>162</td>\n",
              "      <td>all</td>\n",
              "      <td>cat56.mp4</td>\n",
              "      <td>22.872475</td>\n",
              "      <td>5</td>\n",
              "    </tr>\n",
              "  </tbody>\n",
              "</table>\n",
              "<p>147 rows × 5 columns</p>\n",
              "</div>"
            ],
            "text/plain": [
              "     index labeler      video  frame_seconds  score\n",
              "0        0     all  cat15.mp4       2.133385      2\n",
              "1        1     all  cat74.mp4      13.984110      3\n",
              "2        2     all  cat75.mp4      14.685697      2\n",
              "3        3     all  cat21.mp4       2.282946      2\n",
              "4        4     all  cat65.mp4       1.214871      4\n",
              "..     ...     ...        ...            ...    ...\n",
              "142    156     all  cat35.mp4       3.484597      1\n",
              "143    157     all  cat63.mp4       7.950350      4\n",
              "144    158     all  cat30.mp4       3.723101      3\n",
              "145    160     all  cat29.mp4      15.945570      5\n",
              "146    162     all  cat56.mp4      22.872475      5\n",
              "\n",
              "[147 rows x 5 columns]"
            ]
          },
          "metadata": {
            "tags": []
          }
        }
      ]
    },
    {
      "cell_type": "code",
      "metadata": {
        "id": "eVs4ul-GxcG7",
        "colab_type": "code",
        "outputId": "f45a8791-0b37-472f-8146-7b02f2264732",
        "colab": {
          "base_uri": "https://localhost:8080/",
          "height": 102
        }
      },
      "source": [
        "from PIL import Image\n",
        "\n",
        "\"\"\"\n",
        "First, let's sort the videos by frame, so that we don't have to load a new video instance unnecessarily.\n",
        "\n",
        "Then, we'll loop through each item here and recover all of the labelled frames, grab the images, and store them as files.\n",
        "\"\"\"\n",
        "frames_cnn = frames_df.copy()\n",
        "\n",
        "# Add a column to store the image data\n",
        "frames_cnn[\"images\"] = None\n",
        "\n",
        "for i, frame in frames_cnn.iterrows():\n",
        "  video_name = frame[\"video\"].split(\".mp4\")[0]\n",
        "  frames_cnn[\"images\"][i] = np.array(Image.open(f\"{directory}frames/{i}_{video_name}.png\"))\n"
      ],
      "execution_count": 0,
      "outputs": [
        {
          "output_type": "stream",
          "text": [
            "/usr/local/lib/python3.6/dist-packages/ipykernel_launcher.py:15: SettingWithCopyWarning: \n",
            "A value is trying to be set on a copy of a slice from a DataFrame\n",
            "\n",
            "See the caveats in the documentation: https://pandas.pydata.org/pandas-docs/stable/user_guide/indexing.html#returning-a-view-versus-a-copy\n",
            "  from ipykernel import kernelapp as app\n"
          ],
          "name": "stderr"
        }
      ]
    },
    {
      "cell_type": "code",
      "metadata": {
        "id": "uoPtbpgk0xpo",
        "colab_type": "code",
        "outputId": "27abbd8c-8019-4b57-e4de-a68770a74f3c",
        "colab": {
          "base_uri": "https://localhost:8080/",
          "height": 282
        }
      },
      "source": [
        "frames_cnn.head()\n",
        "\n",
        "\"\"\"\n",
        "Get all images loaded into the dataframes as one huge numpy array to work with for now. \n",
        "\"\"\"\n",
        "numpy_images = frames_cnn[\"images\"].to_numpy()\n",
        "\n",
        "\"\"\"\n",
        "Do some very brief EDA to see the max and min dimensions on the images, \n",
        "to get a sense of how I should crop or resize.\n",
        "\"\"\"\n",
        "aspect_ratios = []\n",
        "\n",
        "for image_array in numpy_images:\n",
        "    if image_array.shape[0] >  image_array.shape[1]:\n",
        "        aspect_ratios.append(image_array.shape[0] / image_array.shape[1])\n",
        "    else:\n",
        "        aspect_ratios.append(image_array.shape[1] / image_array.shape[0])\n",
        "\n",
        "plt.hist(aspect_ratios)\n",
        "\n",
        "frames_cnn[\"aspect_ratios\"] = np.array(aspect_ratios)\n",
        "frames_cnn.head()\n",
        "\n",
        "numpy_images[0].shape"
      ],
      "execution_count": 0,
      "outputs": [
        {
          "output_type": "execute_result",
          "data": {
            "text/plain": [
              "(1920, 1080, 3)"
            ]
          },
          "metadata": {
            "tags": []
          },
          "execution_count": 18
        },
        {
          "output_type": "display_data",
          "data": {
            "image/png": "[encoded data removed]",
            "text/plain": [
              "<Figure size 432x288 with 1 Axes>"
            ]
          },
          "metadata": {
            "tags": [],
            "needs_background": "light"
          }
        }
      ]
    },
    {
      "cell_type": "code",
      "metadata": {
        "id": "YEgIjA-Y0-bD",
        "colab_type": "code",
        "colab": {}
      },
      "source": [
        "\"\"\"\n",
        "Based on some of the investigations above, most of the images have the same aspect ratio, \n",
        "save for a few. Given this, I'm not too worried about cropping; we should stick\n",
        "to the most frequent aspect ratio and crop everything accordingly. I think it will be\n",
        "OK if a couple of the images have padding.\n",
        "\n",
        "But to get the images as uniform as possible, let's lay all the images horizontally.\n",
        "I don't think the orienting the images for training purposes will affect the outcome.\n",
        "\"\"\"\n",
        "images_horizontal = []\n",
        "for image_array in numpy_images:\n",
        "    \"\"\"\n",
        "    If image is vertical, rotate it 90 degrees.\n",
        "    Since images are always: height, width, depth\n",
        "    \"\"\"\n",
        "    if image_array.shape[0] >  image_array.shape[1]:\n",
        "        image_array = np.rot90(image_array)\n",
        "    images_horizontal.append(image_array)\n",
        "\n",
        "images_horizontal = np.array(images_horizontal)"
      ],
      "execution_count": 0,
      "outputs": []
    },
    {
      "cell_type": "code",
      "metadata": {
        "id": "wgNGQxO41CPe",
        "colab_type": "code",
        "outputId": "378c2cb5-5eef-43ad-e22b-92b753323ff7",
        "colab": {
          "base_uri": "https://localhost:8080/",
          "height": 282
        }
      },
      "source": [
        "widths = [x.shape[1] for x in images_horizontal]\n",
        "plt.hist(widths)\n",
        "minimum_width_image = images_horizontal[np.argmin(widths)]\n",
        "\"\"\"\n",
        "The minimum width image is still an aspect ratio of ~16:9\n",
        "\"\"\"\n",
        "minimum_width_image.shape[1] / minimum_width_image.shape[0]"
      ],
      "execution_count": 0,
      "outputs": [
        {
          "output_type": "execute_result",
          "data": {
            "text/plain": [
              "1.7733990147783252"
            ]
          },
          "metadata": {
            "tags": []
          },
          "execution_count": 20
        },
        {
          "output_type": "display_data",
          "data": {
            "image/png": "[encoded data removed]",
            "text/plain": [
              "<Figure size 432x288 with 1 Axes>"
            ]
          },
          "metadata": {
            "tags": [],
            "needs_background": "light"
          }
        }
      ]
    },
    {
      "cell_type": "code",
      "metadata": {
        "id": "F1g7FCaL1Hyq",
        "colab_type": "code",
        "outputId": "b5d35c1b-c1da-485d-dd30-3182468d4dd7",
        "colab": {
          "base_uri": "https://localhost:8080/",
          "height": 51
        }
      },
      "source": [
        "\"\"\"\n",
        "Examine the smallest photo\n",
        "\"\"\"\n",
        "print(minimum_width_image.shape[1])\n",
        "print(minimum_width_image.shape[0])"
      ],
      "execution_count": 0,
      "outputs": [
        {
          "output_type": "stream",
          "text": [
            "720\n",
            "406\n"
          ],
          "name": "stdout"
        }
      ]
    },
    {
      "cell_type": "code",
      "metadata": {
        "id": "cB6jLDap1NED",
        "colab_type": "code",
        "outputId": "a01134c4-cbe3-4b3d-fbe0-5531e28360a9",
        "colab": {
          "base_uri": "https://localhost:8080/",
          "height": 1000
        }
      },
      "source": [
        "recrop_size = (158, 280)\n",
        "\n",
        "def tf_norm_crop_resize_image(image, resize_dim):\n",
        "    \"\"\"Normalizes image to [0.,1.], crops to dims (720, 406, 3)\n",
        "    and resizes to `resize_dim`, returning an image tensor.\"\"\"\n",
        "    image = tf.cast(image, tf.float32) / 255.\n",
        "    image = tf.image.resize_with_crop_or_pad(image, 1080, 1920)\n",
        "    image = tf.image.resize(image, resize_dim)\n",
        "    image.set_shape(resize_dim + (3,))\n",
        "    return image\n",
        "\n",
        "cropped_images = np.empty((len(images_horizontal), recrop_size[0], recrop_size[1], 3))\n",
        "for i, image in enumerate(images_horizontal):\n",
        "    cropped_image = tf_norm_crop_resize_image(image, recrop_size)\n",
        "    cropped_images[i] = cropped_image\n",
        "    print(f\"Cropped and reshaped image: {i}\")"
      ],
      "execution_count": 0,
      "outputs": [
        {
          "output_type": "stream",
          "text": [
            "Cropped and reshaped image: 0\n",
            "Cropped and reshaped image: 1\n",
            "Cropped and reshaped image: 2\n",
            "Cropped and reshaped image: 3\n",
            "Cropped and reshaped image: 4\n",
            "Cropped and reshaped image: 5\n",
            "Cropped and reshaped image: 6\n",
            "Cropped and reshaped image: 7\n",
            "Cropped and reshaped image: 8\n",
            "Cropped and reshaped image: 9\n",
            "Cropped and reshaped image: 10\n",
            "Cropped and reshaped image: 11\n",
            "Cropped and reshaped image: 12\n",
            "Cropped and reshaped image: 13\n",
            "Cropped and reshaped image: 14\n",
            "Cropped and reshaped image: 15\n",
            "Cropped and reshaped image: 16\n",
            "Cropped and reshaped image: 17\n",
            "Cropped and reshaped image: 18\n",
            "Cropped and reshaped image: 19\n",
            "Cropped and reshaped image: 20\n",
            "Cropped and reshaped image: 21\n",
            "Cropped and reshaped image: 22\n",
            "Cropped and reshaped image: 23\n",
            "Cropped and reshaped image: 24\n",
            "Cropped and reshaped image: 25\n",
            "Cropped and reshaped image: 26\n",
            "Cropped and reshaped image: 27\n",
            "Cropped and reshaped image: 28\n",
            "Cropped and reshaped image: 29\n",
            "Cropped and reshaped image: 30\n",
            "Cropped and reshaped image: 31\n",
            "Cropped and reshaped image: 32\n",
            "Cropped and reshaped image: 33\n",
            "Cropped and reshaped image: 34\n",
            "Cropped and reshaped image: 35\n",
            "Cropped and reshaped image: 36\n",
            "Cropped and reshaped image: 37\n",
            "Cropped and reshaped image: 38\n",
            "Cropped and reshaped image: 39\n",
            "Cropped and reshaped image: 40\n",
            "Cropped and reshaped image: 41\n",
            "Cropped and reshaped image: 42\n",
            "Cropped and reshaped image: 43\n",
            "Cropped and reshaped image: 44\n",
            "Cropped and reshaped image: 45\n",
            "Cropped and reshaped image: 46\n",
            "Cropped and reshaped image: 47\n",
            "Cropped and reshaped image: 48\n",
            "Cropped and reshaped image: 49\n",
            "Cropped and reshaped image: 50\n",
            "Cropped and reshaped image: 51\n",
            "Cropped and reshaped image: 52\n",
            "Cropped and reshaped image: 53\n",
            "Cropped and reshaped image: 54\n",
            "Cropped and reshaped image: 55\n",
            "Cropped and reshaped image: 56\n",
            "Cropped and reshaped image: 57\n",
            "Cropped and reshaped image: 58\n",
            "Cropped and reshaped image: 59\n",
            "Cropped and reshaped image: 60\n",
            "Cropped and reshaped image: 61\n",
            "Cropped and reshaped image: 62\n",
            "Cropped and reshaped image: 63\n",
            "Cropped and reshaped image: 64\n",
            "Cropped and reshaped image: 65\n",
            "Cropped and reshaped image: 66\n",
            "Cropped and reshaped image: 67\n",
            "Cropped and reshaped image: 68\n",
            "Cropped and reshaped image: 69\n",
            "Cropped and reshaped image: 70\n",
            "Cropped and reshaped image: 71\n",
            "Cropped and reshaped image: 72\n",
            "Cropped and reshaped image: 73\n",
            "Cropped and reshaped image: 74\n",
            "Cropped and reshaped image: 75\n",
            "Cropped and reshaped image: 76\n",
            "Cropped and reshaped image: 77\n",
            "Cropped and reshaped image: 78\n",
            "Cropped and reshaped image: 79\n",
            "Cropped and reshaped image: 80\n",
            "Cropped and reshaped image: 81\n",
            "Cropped and reshaped image: 82\n",
            "Cropped and reshaped image: 83\n",
            "Cropped and reshaped image: 84\n",
            "Cropped and reshaped image: 85\n",
            "Cropped and reshaped image: 86\n",
            "Cropped and reshaped image: 87\n",
            "Cropped and reshaped image: 88\n",
            "Cropped and reshaped image: 89\n",
            "Cropped and reshaped image: 90\n",
            "Cropped and reshaped image: 91\n",
            "Cropped and reshaped image: 92\n",
            "Cropped and reshaped image: 93\n",
            "Cropped and reshaped image: 94\n",
            "Cropped and reshaped image: 95\n",
            "Cropped and reshaped image: 96\n",
            "Cropped and reshaped image: 97\n",
            "Cropped and reshaped image: 98\n",
            "Cropped and reshaped image: 99\n",
            "Cropped and reshaped image: 100\n",
            "Cropped and reshaped image: 101\n",
            "Cropped and reshaped image: 102\n",
            "Cropped and reshaped image: 103\n",
            "Cropped and reshaped image: 104\n",
            "Cropped and reshaped image: 105\n",
            "Cropped and reshaped image: 106\n",
            "Cropped and reshaped image: 107\n",
            "Cropped and reshaped image: 108\n",
            "Cropped and reshaped image: 109\n",
            "Cropped and reshaped image: 110\n",
            "Cropped and reshaped image: 111\n",
            "Cropped and reshaped image: 112\n",
            "Cropped and reshaped image: 113\n",
            "Cropped and reshaped image: 114\n",
            "Cropped and reshaped image: 115\n",
            "Cropped and reshaped image: 116\n",
            "Cropped and reshaped image: 117\n",
            "Cropped and reshaped image: 118\n",
            "Cropped and reshaped image: 119\n",
            "Cropped and reshaped image: 120\n",
            "Cropped and reshaped image: 121\n",
            "Cropped and reshaped image: 122\n",
            "Cropped and reshaped image: 123\n",
            "Cropped and reshaped image: 124\n",
            "Cropped and reshaped image: 125\n",
            "Cropped and reshaped image: 126\n",
            "Cropped and reshaped image: 127\n",
            "Cropped and reshaped image: 128\n",
            "Cropped and reshaped image: 129\n",
            "Cropped and reshaped image: 130\n",
            "Cropped and reshaped image: 131\n",
            "Cropped and reshaped image: 132\n",
            "Cropped and reshaped image: 133\n",
            "Cropped and reshaped image: 134\n",
            "Cropped and reshaped image: 135\n",
            "Cropped and reshaped image: 136\n",
            "Cropped and reshaped image: 137\n",
            "Cropped and reshaped image: 138\n",
            "Cropped and reshaped image: 139\n",
            "Cropped and reshaped image: 140\n",
            "Cropped and reshaped image: 141\n",
            "Cropped and reshaped image: 142\n",
            "Cropped and reshaped image: 143\n",
            "Cropped and reshaped image: 144\n",
            "Cropped and reshaped image: 145\n",
            "Cropped and reshaped image: 146\n"
          ],
          "name": "stdout"
        }
      ]
    },
    {
      "cell_type": "code",
      "metadata": {
        "id": "KkvScxtR57_f",
        "colab_type": "code",
        "colab": {}
      },
      "source": [
        "train_indices = range(122)\n",
        "test_indices = range(122, 147)\n",
        "\n",
        "X_train = cropped_images[train_indices]\n",
        "y_train = frames_df.iloc[train_indices][\"score\"]\n",
        "\n",
        "X_test = cropped_images[test_indices]\n",
        "y_test = frames_df.iloc[test_indices][\"score\"]\n",
        "\n",
        "\"\"\"\n",
        "Subtract 1 because the Dense layer will output a score from 0 - 4.\n",
        "\n",
        "This means that any result we have, we'll need to add a 1 to it later to compare\n",
        "back to the original.\n",
        "\"\"\"\n",
        "y_train = y_train - 1\n",
        "y_test = y_test - 1"
      ],
      "execution_count": 0,
      "outputs": []
    },
    {
      "cell_type": "code",
      "metadata": {
        "id": "wrwnZsx4y-dz",
        "colab_type": "code",
        "outputId": "e54aa933-ef6f-44b5-89db-68162b6e1380",
        "colab": {
          "base_uri": "https://localhost:8080/",
          "height": 561
        }
      },
      "source": [
        "sample_image = X_train[0]\n",
        "cnn_model = models.Sequential()\n",
        "\n",
        "optimizer = \"adam\"\n",
        "metrics=[\"accuracy\"]\n",
        "\n",
        "# 1st convolutional layer\n",
        "cnn_model.add(layers.Conv2D(\n",
        "    filters=8, \n",
        "    kernel_size=(3, 3),\n",
        "    activation='relu',\n",
        "    padding=\"same\", \n",
        "    input_shape=sample_image.shape\n",
        "  )\n",
        ")\n",
        "\n",
        "# 2nd convolutional layer + max pooling\n",
        "cnn_model.add(layers.Conv2D(\n",
        "    filters=16, \n",
        "    kernel_size=(3, 3),\n",
        "    activation='relu',\n",
        "    padding=\"same\", \n",
        "  )\n",
        ")\n",
        "cnn_model.add(layers.MaxPooling2D(pool_size=(2, 2)))\n",
        "cnn_model.add(layers.Dropout(0.25))\n",
        "\n",
        "\n",
        "# 3rd convolutional layer + max pooling\n",
        "cnn_model.add(layers.Conv2D(\n",
        "    filters=32, \n",
        "    kernel_size=(3, 3),\n",
        "    activation='relu',\n",
        "    padding=\"same\", \n",
        "  )\n",
        ")\n",
        "cnn_model.add(layers.MaxPooling2D(pool_size=(2, 2)))\n",
        "cnn_model.add(layers.Dropout(0.25))\n",
        "\n",
        "# 4rd convolutional layer + max pooling\n",
        "cnn_model.add(layers.Conv2D(\n",
        "    filters=64, \n",
        "    kernel_size=(3, 3),\n",
        "    activation='relu',\n",
        "    padding=\"same\", \n",
        "  )\n",
        ")\n",
        "cnn_model.add(layers.MaxPooling2D(pool_size=(2, 2)))\n",
        "cnn_model.add(layers.Dropout(0.25))\n",
        "\n",
        "\n",
        "# Output:\n",
        "cnn_model.add(layers.Flatten())\n",
        "cnn_model.add(layers.Dense(5, activation='softmax'))\n",
        "\n",
        "# Compile model\n",
        "cnn_model.compile(\n",
        "    optimizer=optimizer,\n",
        "    # Since we did not one-hot encode this, we'll use sparse categorical crossentropy\n",
        "    loss=tf.keras.losses.sparse_categorical_crossentropy,\n",
        "    metrics=metrics\n",
        ")\n",
        "\n",
        "cnn_model.summary()"
      ],
      "execution_count": 0,
      "outputs": [
        {
          "output_type": "stream",
          "text": [
            "Model: \"sequential_22\"\n",
            "_________________________________________________________________\n",
            "Layer (type)                 Output Shape              Param #   \n",
            "=================================================================\n",
            "conv2d_71 (Conv2D)           (None, 158, 280, 8)       224       \n",
            "_________________________________________________________________\n",
            "conv2d_72 (Conv2D)           (None, 158, 280, 16)      1168      \n",
            "_________________________________________________________________\n",
            "max_pooling2d_48 (MaxPooling (None, 79, 140, 16)       0         \n",
            "_________________________________________________________________\n",
            "dropout_50 (Dropout)         (None, 79, 140, 16)       0         \n",
            "_________________________________________________________________\n",
            "conv2d_73 (Conv2D)           (None, 79, 140, 32)       4640      \n",
            "_________________________________________________________________\n",
            "max_pooling2d_49 (MaxPooling (None, 39, 70, 32)        0         \n",
            "_________________________________________________________________\n",
            "dropout_51 (Dropout)         (None, 39, 70, 32)        0         \n",
            "_________________________________________________________________\n",
            "conv2d_74 (Conv2D)           (None, 39, 70, 64)        18496     \n",
            "_________________________________________________________________\n",
            "max_pooling2d_50 (MaxPooling (None, 19, 35, 64)        0         \n",
            "_________________________________________________________________\n",
            "dropout_52 (Dropout)         (None, 19, 35, 64)        0         \n",
            "_________________________________________________________________\n",
            "flatten_22 (Flatten)         (None, 42560)             0         \n",
            "_________________________________________________________________\n",
            "dense_22 (Dense)             (None, 5)                 212805    \n",
            "=================================================================\n",
            "Total params: 237,333\n",
            "Trainable params: 237,333\n",
            "Non-trainable params: 0\n",
            "_________________________________________________________________\n"
          ],
          "name": "stdout"
        }
      ]
    },
    {
      "cell_type": "code",
      "metadata": {
        "id": "t2xzzAXwzgUW",
        "colab_type": "code",
        "outputId": "4b57d6f4-2957-491b-9d7e-2f311f9d4892",
        "colab": {
          "base_uri": "https://localhost:8080/",
          "height": 357
        }
      },
      "source": [
        "\"\"\"\n",
        "With 237,333 parameters.\n",
        "\"\"\"\n",
        "\n",
        "history = cnn_model.fit(\n",
        "    X_train,\n",
        "    y_train,\n",
        "    epochs=10,\n",
        "    verbose=1, \n",
        "    validation_split=0.1,\n",
        ")"
      ],
      "execution_count": 0,
      "outputs": [
        {
          "output_type": "stream",
          "text": [
            "Epoch 1/10\n",
            "4/4 [==============================] - 5s 1s/step - loss: 1.5655 - accuracy: 0.2569 - val_loss: 1.5612 - val_accuracy: 0.3846\n",
            "Epoch 2/10\n",
            "4/4 [==============================] - 5s 1s/step - loss: 1.4508 - accuracy: 0.4128 - val_loss: 1.5737 - val_accuracy: 0.3846\n",
            "Epoch 3/10\n",
            "4/4 [==============================] - 5s 1s/step - loss: 1.3867 - accuracy: 0.4128 - val_loss: 1.5144 - val_accuracy: 0.3846\n",
            "Epoch 4/10\n",
            "4/4 [==============================] - 5s 1s/step - loss: 1.3005 - accuracy: 0.4495 - val_loss: 1.4566 - val_accuracy: 0.5385\n",
            "Epoch 5/10\n",
            "4/4 [==============================] - 5s 1s/step - loss: 1.2293 - accuracy: 0.5780 - val_loss: 1.3814 - val_accuracy: 0.3846\n",
            "Epoch 6/10\n",
            "4/4 [==============================] - 5s 1s/step - loss: 1.1122 - accuracy: 0.5688 - val_loss: 1.2626 - val_accuracy: 0.5385\n",
            "Epoch 7/10\n",
            "4/4 [==============================] - 5s 1s/step - loss: 1.0202 - accuracy: 0.6055 - val_loss: 1.1706 - val_accuracy: 0.5385\n",
            "Epoch 8/10\n",
            "4/4 [==============================] - 5s 1s/step - loss: 0.9324 - accuracy: 0.6239 - val_loss: 1.2369 - val_accuracy: 0.3846\n",
            "Epoch 9/10\n",
            "4/4 [==============================] - 6s 2s/step - loss: 0.7368 - accuracy: 0.7156 - val_loss: 1.3212 - val_accuracy: 0.5385\n",
            "Epoch 10/10\n",
            "4/4 [==============================] - 5s 1s/step - loss: 0.6816 - accuracy: 0.7523 - val_loss: 1.1285 - val_accuracy: 0.4615\n"
          ],
          "name": "stdout"
        }
      ]
    },
    {
      "cell_type": "code",
      "metadata": {
        "id": "lzqdGXLEB__a",
        "colab_type": "code",
        "outputId": "1c43c942-8617-44c8-fd06-377693462033",
        "colab": {
          "base_uri": "https://localhost:8080/",
          "height": 295
        }
      },
      "source": [
        "\"\"\"\n",
        "Citation: This is code that I took from one of my old data science assignments\n",
        "\"\"\"\n",
        "\n",
        "def print_history(history):\n",
        "    plt.plot((history.history[\"loss\"]), label=\"train\")\n",
        "    plt.plot((history.history[\"val_loss\"]), label=\"val\")\n",
        "    plt.xlabel(r\"Epoch\")\n",
        "    plt.ylabel(r\"Loss\")\n",
        "    plt.title(\"Loss over Epochs\")\n",
        "    plt.legend()\n",
        "    plt.show()\n",
        "\n",
        "print_history(history)"
      ],
      "execution_count": 0,
      "outputs": [
        {
          "output_type": "display_data",
          "data": {
            "image/png": "[encoded data removed]",
            "text/plain": [
              "<Figure size 432x288 with 1 Axes>"
            ]
          },
          "metadata": {
            "tags": [],
            "needs_background": "light"
          }
        }
      ]
    },
    {
      "cell_type": "code",
      "metadata": {
        "id": "FBMwNTDqyUeT",
        "colab_type": "code",
        "outputId": "827b3dce-41cc-4e3a-8eb3-85845d09fd9a",
        "colab": {
          "base_uri": "https://localhost:8080/",
          "height": 34
        }
      },
      "source": [
        "\"\"\"\n",
        "At around 14 epochs, it seems to start over-fitting. Accuracy of training set is close to \n",
        "97, whereas validation accuracy is at 50%.\n",
        "\"\"\""
      ],
      "execution_count": 0,
      "outputs": [
        {
          "output_type": "execute_result",
          "data": {
            "text/plain": [
              "'\\nAt around 14 epochs, it seems to start over-fitting. Accuracy of training set is close to \\n97, whereas validation accuracy is at 50%.\\n'"
            ]
          },
          "metadata": {
            "tags": []
          },
          "execution_count": 89
        }
      ]
    },
    {
      "cell_type": "code",
      "metadata": {
        "id": "4ar_wEFBBZCC",
        "colab_type": "code",
        "colab": {}
      },
      "source": [
        "\"\"\"\n",
        "I'm pretty tired, so I'm going to stop right here. Obviously, this needs \n",
        "to be trained some more because it's hasn't converged enough, and train accuracy\n",
        "is only at 0.45%. It's possible that more epochs will do the trick, but I'm also\n",
        "suspicious, and I suspect that we will need much, much more data.\n",
        "\n",
        "But regardless, here is a prediction of the images:\n",
        "\"\"\"\n",
        "\n",
        "predictions = cnn_model.predict(X_test)"
      ],
      "execution_count": 0,
      "outputs": []
    },
    {
      "cell_type": "code",
      "metadata": {
        "id": "b9gF54W7DaBw",
        "colab_type": "code",
        "outputId": "a81f45bb-d884-4b1e-d335-20efd4662ca7",
        "colab": {
          "base_uri": "https://localhost:8080/",
          "height": 85
        }
      },
      "source": [
        "predicted_scores = np.array([np.argmax(x) for x in predictions])\n",
        "\n",
        "print(\"ACTUAL (top) VS PREDICTED SCORES (bottom)\")\n",
        "print(y_test.values)\n",
        "print(predicted_scores)\n",
        "\n",
        "from sklearn.metrics import accuracy_score\n",
        "\n",
        "total_score = accuracy_score(y_test, predicted_scores)\n",
        "print(f\"Total Score: {total_score}\")"
      ],
      "execution_count": 0,
      "outputs": [
        {
          "output_type": "stream",
          "text": [
            "ACTUAL (top) VS PREDICTED SCORES (bottom)\n",
            "[0 3 2 4 4 2 2 0 0 2 2 1 1 2 0 1 2 0 2 4 0 3 2 4 4]\n",
            "[3 1 2 1 2 2 3 0 0 2 0 1 0 3 3 3 1 3 2 4 2 3 2 4 4]\n",
            "Total Score: 0.48\n"
          ],
          "name": "stdout"
        }
      ]
    },
    {
      "cell_type": "code",
      "metadata": {
        "id": "_AWAhumH9cza",
        "colab_type": "code",
        "colab": {}
      },
      "source": [
        ""
      ],
      "execution_count": 0,
      "outputs": []
    }
  ]
}